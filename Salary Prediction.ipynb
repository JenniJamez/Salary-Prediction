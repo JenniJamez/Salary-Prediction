{
 "cells": [
  {
   "cell_type": "code",
   "execution_count": 7,
   "id": "5ee6313c",
   "metadata": {},
   "outputs": [],
   "source": [
    "import pandas as pd\n",
    "import numpy as np\n",
    "from sklearn import linear_model\n",
    "import matplotlib.pyplot as plt\n",
    "from scipy.stats import spearmanr, kendalltau\n",
    "import seaborn as sns"
   ]
  },
  {
   "cell_type": "code",
   "execution_count": 8,
   "id": "031475ed",
   "metadata": {},
   "outputs": [],
   "source": [
    "\n",
    "df = pd.read_csv(r'C:\\Users\\JENNIFER AMIOSINOR\\Downloads/Salary Data.csv')\n",
    "\n"
   ]
  },
  {
   "cell_type": "code",
   "execution_count": 9,
   "id": "50bfef18",
   "metadata": {},
   "outputs": [
    {
     "data": {
      "text/html": [
       "<div>\n",
       "<style scoped>\n",
       "    .dataframe tbody tr th:only-of-type {\n",
       "        vertical-align: middle;\n",
       "    }\n",
       "\n",
       "    .dataframe tbody tr th {\n",
       "        vertical-align: top;\n",
       "    }\n",
       "\n",
       "    .dataframe thead th {\n",
       "        text-align: right;\n",
       "    }\n",
       "</style>\n",
       "<table border=\"1\" class=\"dataframe\">\n",
       "  <thead>\n",
       "    <tr style=\"text-align: right;\">\n",
       "      <th></th>\n",
       "      <th>Age</th>\n",
       "      <th>Gender</th>\n",
       "      <th>Education Level</th>\n",
       "      <th>Job Title</th>\n",
       "      <th>YearsofExperience</th>\n",
       "      <th>Salary</th>\n",
       "    </tr>\n",
       "  </thead>\n",
       "  <tbody>\n",
       "    <tr>\n",
       "      <th>0</th>\n",
       "      <td>32.0</td>\n",
       "      <td>Male</td>\n",
       "      <td>Bachelor's</td>\n",
       "      <td>Software Engineer</td>\n",
       "      <td>5.0</td>\n",
       "      <td>90000.0</td>\n",
       "    </tr>\n",
       "    <tr>\n",
       "      <th>1</th>\n",
       "      <td>28.0</td>\n",
       "      <td>Female</td>\n",
       "      <td>Master's</td>\n",
       "      <td>Data Analyst</td>\n",
       "      <td>3.0</td>\n",
       "      <td>65000.0</td>\n",
       "    </tr>\n",
       "    <tr>\n",
       "      <th>2</th>\n",
       "      <td>45.0</td>\n",
       "      <td>Male</td>\n",
       "      <td>PhD</td>\n",
       "      <td>Senior Manager</td>\n",
       "      <td>15.0</td>\n",
       "      <td>150000.0</td>\n",
       "    </tr>\n",
       "    <tr>\n",
       "      <th>3</th>\n",
       "      <td>36.0</td>\n",
       "      <td>Female</td>\n",
       "      <td>Bachelor's</td>\n",
       "      <td>Sales Associate</td>\n",
       "      <td>7.0</td>\n",
       "      <td>60000.0</td>\n",
       "    </tr>\n",
       "    <tr>\n",
       "      <th>4</th>\n",
       "      <td>52.0</td>\n",
       "      <td>Male</td>\n",
       "      <td>Master's</td>\n",
       "      <td>Director</td>\n",
       "      <td>20.0</td>\n",
       "      <td>200000.0</td>\n",
       "    </tr>\n",
       "    <tr>\n",
       "      <th>...</th>\n",
       "      <td>...</td>\n",
       "      <td>...</td>\n",
       "      <td>...</td>\n",
       "      <td>...</td>\n",
       "      <td>...</td>\n",
       "      <td>...</td>\n",
       "    </tr>\n",
       "    <tr>\n",
       "      <th>370</th>\n",
       "      <td>35.0</td>\n",
       "      <td>Female</td>\n",
       "      <td>Bachelor's</td>\n",
       "      <td>Senior Marketing Analyst</td>\n",
       "      <td>8.0</td>\n",
       "      <td>85000.0</td>\n",
       "    </tr>\n",
       "    <tr>\n",
       "      <th>371</th>\n",
       "      <td>43.0</td>\n",
       "      <td>Male</td>\n",
       "      <td>Master's</td>\n",
       "      <td>Director of Operations</td>\n",
       "      <td>19.0</td>\n",
       "      <td>170000.0</td>\n",
       "    </tr>\n",
       "    <tr>\n",
       "      <th>372</th>\n",
       "      <td>29.0</td>\n",
       "      <td>Female</td>\n",
       "      <td>Bachelor's</td>\n",
       "      <td>Junior Project Manager</td>\n",
       "      <td>2.0</td>\n",
       "      <td>40000.0</td>\n",
       "    </tr>\n",
       "    <tr>\n",
       "      <th>373</th>\n",
       "      <td>34.0</td>\n",
       "      <td>Male</td>\n",
       "      <td>Bachelor's</td>\n",
       "      <td>Senior Operations Coordinator</td>\n",
       "      <td>7.0</td>\n",
       "      <td>90000.0</td>\n",
       "    </tr>\n",
       "    <tr>\n",
       "      <th>374</th>\n",
       "      <td>44.0</td>\n",
       "      <td>Female</td>\n",
       "      <td>PhD</td>\n",
       "      <td>Senior Business Analyst</td>\n",
       "      <td>15.0</td>\n",
       "      <td>150000.0</td>\n",
       "    </tr>\n",
       "  </tbody>\n",
       "</table>\n",
       "<p>375 rows × 6 columns</p>\n",
       "</div>"
      ],
      "text/plain": [
       "      Age  Gender Education Level                      Job Title  \\\n",
       "0    32.0    Male      Bachelor's              Software Engineer   \n",
       "1    28.0  Female        Master's                   Data Analyst   \n",
       "2    45.0    Male             PhD                 Senior Manager   \n",
       "3    36.0  Female      Bachelor's                Sales Associate   \n",
       "4    52.0    Male        Master's                       Director   \n",
       "..    ...     ...             ...                            ...   \n",
       "370  35.0  Female      Bachelor's       Senior Marketing Analyst   \n",
       "371  43.0    Male        Master's         Director of Operations   \n",
       "372  29.0  Female      Bachelor's         Junior Project Manager   \n",
       "373  34.0    Male      Bachelor's  Senior Operations Coordinator   \n",
       "374  44.0  Female             PhD        Senior Business Analyst   \n",
       "\n",
       "     YearsofExperience    Salary  \n",
       "0                  5.0   90000.0  \n",
       "1                  3.0   65000.0  \n",
       "2                 15.0  150000.0  \n",
       "3                  7.0   60000.0  \n",
       "4                 20.0  200000.0  \n",
       "..                 ...       ...  \n",
       "370                8.0   85000.0  \n",
       "371               19.0  170000.0  \n",
       "372                2.0   40000.0  \n",
       "373                7.0   90000.0  \n",
       "374               15.0  150000.0  \n",
       "\n",
       "[375 rows x 6 columns]"
      ]
     },
     "execution_count": 9,
     "metadata": {},
     "output_type": "execute_result"
    }
   ],
   "source": [
    "df"
   ]
  },
  {
   "cell_type": "code",
   "execution_count": 10,
   "id": "d23d2259",
   "metadata": {},
   "outputs": [
    {
     "data": {
      "text/html": [
       "<div>\n",
       "<style scoped>\n",
       "    .dataframe tbody tr th:only-of-type {\n",
       "        vertical-align: middle;\n",
       "    }\n",
       "\n",
       "    .dataframe tbody tr th {\n",
       "        vertical-align: top;\n",
       "    }\n",
       "\n",
       "    .dataframe thead th {\n",
       "        text-align: right;\n",
       "    }\n",
       "</style>\n",
       "<table border=\"1\" class=\"dataframe\">\n",
       "  <thead>\n",
       "    <tr style=\"text-align: right;\">\n",
       "      <th></th>\n",
       "      <th>Age</th>\n",
       "      <th>YearsofExperience</th>\n",
       "      <th>Salary</th>\n",
       "    </tr>\n",
       "  </thead>\n",
       "  <tbody>\n",
       "    <tr>\n",
       "      <th>count</th>\n",
       "      <td>373.000000</td>\n",
       "      <td>373.000000</td>\n",
       "      <td>373.000000</td>\n",
       "    </tr>\n",
       "    <tr>\n",
       "      <th>mean</th>\n",
       "      <td>37.431635</td>\n",
       "      <td>10.030831</td>\n",
       "      <td>100577.345845</td>\n",
       "    </tr>\n",
       "    <tr>\n",
       "      <th>std</th>\n",
       "      <td>7.069073</td>\n",
       "      <td>6.557007</td>\n",
       "      <td>48240.013482</td>\n",
       "    </tr>\n",
       "    <tr>\n",
       "      <th>min</th>\n",
       "      <td>23.000000</td>\n",
       "      <td>0.000000</td>\n",
       "      <td>350.000000</td>\n",
       "    </tr>\n",
       "    <tr>\n",
       "      <th>25%</th>\n",
       "      <td>31.000000</td>\n",
       "      <td>4.000000</td>\n",
       "      <td>55000.000000</td>\n",
       "    </tr>\n",
       "    <tr>\n",
       "      <th>50%</th>\n",
       "      <td>36.000000</td>\n",
       "      <td>9.000000</td>\n",
       "      <td>95000.000000</td>\n",
       "    </tr>\n",
       "    <tr>\n",
       "      <th>75%</th>\n",
       "      <td>44.000000</td>\n",
       "      <td>15.000000</td>\n",
       "      <td>140000.000000</td>\n",
       "    </tr>\n",
       "    <tr>\n",
       "      <th>max</th>\n",
       "      <td>53.000000</td>\n",
       "      <td>25.000000</td>\n",
       "      <td>250000.000000</td>\n",
       "    </tr>\n",
       "  </tbody>\n",
       "</table>\n",
       "</div>"
      ],
      "text/plain": [
       "              Age  YearsofExperience         Salary\n",
       "count  373.000000         373.000000     373.000000\n",
       "mean    37.431635          10.030831  100577.345845\n",
       "std      7.069073           6.557007   48240.013482\n",
       "min     23.000000           0.000000     350.000000\n",
       "25%     31.000000           4.000000   55000.000000\n",
       "50%     36.000000           9.000000   95000.000000\n",
       "75%     44.000000          15.000000  140000.000000\n",
       "max     53.000000          25.000000  250000.000000"
      ]
     },
     "execution_count": 10,
     "metadata": {},
     "output_type": "execute_result"
    }
   ],
   "source": [
    "df.describe()"
   ]
  },
  {
   "cell_type": "code",
   "execution_count": 11,
   "id": "c344429f",
   "metadata": {},
   "outputs": [
    {
     "data": {
      "text/plain": [
       "{'Age': [32.0,\n",
       "  28.0,\n",
       "  45.0,\n",
       "  36.0,\n",
       "  52.0,\n",
       "  29.0,\n",
       "  42.0,\n",
       "  31.0,\n",
       "  26.0,\n",
       "  38.0,\n",
       "  48.0,\n",
       "  35.0,\n",
       "  40.0,\n",
       "  27.0,\n",
       "  44.0,\n",
       "  33.0,\n",
       "  39.0,\n",
       "  25.0,\n",
       "  51.0,\n",
       "  34.0,\n",
       "  47.0,\n",
       "  30.0,\n",
       "  41.0,\n",
       "  37.0,\n",
       "  24.0,\n",
       "  43.0,\n",
       "  50.0,\n",
       "  46.0,\n",
       "  49.0,\n",
       "  23.0,\n",
       "  53.0,\n",
       "  nan],\n",
       " 'Gender': ['Male', 'Female', nan],\n",
       " 'Education Level': [\"Bachelor's\", \"Master's\", 'PhD', nan],\n",
       " 'Job Title': ['Software Engineer',\n",
       "  'Data Analyst',\n",
       "  'Senior Manager',\n",
       "  'Sales Associate',\n",
       "  'Director',\n",
       "  'Marketing Analyst',\n",
       "  'Product Manager',\n",
       "  'Sales Manager',\n",
       "  'Marketing Coordinator',\n",
       "  'Senior Scientist',\n",
       "  'Software Developer',\n",
       "  'HR Manager',\n",
       "  'Financial Analyst',\n",
       "  'Project Manager',\n",
       "  'Customer Service Rep',\n",
       "  'Operations Manager',\n",
       "  'Marketing Manager',\n",
       "  'Senior Engineer',\n",
       "  'Data Entry Clerk',\n",
       "  'Sales Director',\n",
       "  'Business Analyst',\n",
       "  'VP of Operations',\n",
       "  'IT Support',\n",
       "  'Recruiter',\n",
       "  'Financial Manager',\n",
       "  'Social Media Specialist',\n",
       "  'Software Manager',\n",
       "  'Junior Developer',\n",
       "  'Senior Consultant',\n",
       "  'Product Designer',\n",
       "  'CEO',\n",
       "  'Accountant',\n",
       "  'Data Scientist',\n",
       "  'Marketing Specialist',\n",
       "  'Technical Writer',\n",
       "  'HR Generalist',\n",
       "  'Project Engineer',\n",
       "  'Customer Success Rep',\n",
       "  'Sales Executive',\n",
       "  'UX Designer',\n",
       "  'Operations Director',\n",
       "  'Network Engineer',\n",
       "  'Administrative Assistant',\n",
       "  'Strategy Consultant',\n",
       "  'Copywriter',\n",
       "  'Account Manager',\n",
       "  'Director of Marketing',\n",
       "  'Help Desk Analyst',\n",
       "  'Customer Service Manager',\n",
       "  'Business Intelligence Analyst',\n",
       "  'Event Coordinator',\n",
       "  'VP of Finance',\n",
       "  'Graphic Designer',\n",
       "  'UX Researcher',\n",
       "  'Social Media Manager',\n",
       "  'Director of Operations',\n",
       "  'Senior Data Scientist',\n",
       "  'Junior Accountant',\n",
       "  'Digital Marketing Manager',\n",
       "  'IT Manager',\n",
       "  'Customer Service Representative',\n",
       "  'Business Development Manager',\n",
       "  'Senior Financial Analyst',\n",
       "  'Web Developer',\n",
       "  'Research Director',\n",
       "  'Technical Support Specialist',\n",
       "  'Creative Director',\n",
       "  'Senior Software Engineer',\n",
       "  'Human Resources Director',\n",
       "  'Content Marketing Manager',\n",
       "  'Technical Recruiter',\n",
       "  'Sales Representative',\n",
       "  'Chief Technology Officer',\n",
       "  'Junior Designer',\n",
       "  'Financial Advisor',\n",
       "  'Junior Account Manager',\n",
       "  'Senior Project Manager',\n",
       "  'Principal Scientist',\n",
       "  'Supply Chain Manager',\n",
       "  'Senior Marketing Manager',\n",
       "  'Training Specialist',\n",
       "  'Research Scientist',\n",
       "  'Junior Software Developer',\n",
       "  'Public Relations Manager',\n",
       "  'Operations Analyst',\n",
       "  'Product Marketing Manager',\n",
       "  'Senior HR Manager',\n",
       "  'Junior Web Developer',\n",
       "  'Senior Project Coordinator',\n",
       "  'Chief Data Officer',\n",
       "  'Digital Content Producer',\n",
       "  'IT Support Specialist',\n",
       "  'Senior Marketing Analyst',\n",
       "  'Customer Success Manager',\n",
       "  'Senior Graphic Designer',\n",
       "  'Software Project Manager',\n",
       "  'Supply Chain Analyst',\n",
       "  'Senior Business Analyst',\n",
       "  'Junior Marketing Analyst',\n",
       "  'Office Manager',\n",
       "  'Principal Engineer',\n",
       "  'Junior HR Generalist',\n",
       "  'Senior Product Manager',\n",
       "  'Junior Operations Analyst',\n",
       "  'Senior HR Generalist',\n",
       "  'Sales Operations Manager',\n",
       "  'Senior Software Developer',\n",
       "  'Junior Web Designer',\n",
       "  'Senior Training Specialist',\n",
       "  'Senior Research Scientist',\n",
       "  'Junior Sales Representative',\n",
       "  'Junior Marketing Manager',\n",
       "  'Junior Data Analyst',\n",
       "  'Senior Product Marketing Manager',\n",
       "  'Junior Business Analyst',\n",
       "  'Senior Sales Manager',\n",
       "  'Junior Marketing Specialist',\n",
       "  'Junior Project Manager',\n",
       "  'Senior Accountant',\n",
       "  'Director of Sales',\n",
       "  'Junior Recruiter',\n",
       "  'Senior Business Development Manager',\n",
       "  'Senior Product Designer',\n",
       "  'Junior Customer Support Specialist',\n",
       "  'Senior IT Support Specialist',\n",
       "  'Junior Financial Analyst',\n",
       "  'Senior Operations Manager',\n",
       "  'Director of Human Resources',\n",
       "  'Junior Software Engineer',\n",
       "  'Senior Sales Representative',\n",
       "  'Director of Product Management',\n",
       "  'Junior Copywriter',\n",
       "  'Senior Marketing Coordinator',\n",
       "  'Senior Human Resources Manager',\n",
       "  'Junior Business Development Associate',\n",
       "  'Senior Account Manager',\n",
       "  'Senior Researcher',\n",
       "  'Junior HR Coordinator',\n",
       "  'Director of Finance',\n",
       "  'Junior Marketing Coordinator',\n",
       "  nan,\n",
       "  'Junior Data Scientist',\n",
       "  'Senior Operations Analyst',\n",
       "  'Senior Human Resources Coordinator',\n",
       "  'Senior UX Designer',\n",
       "  'Junior Product Manager',\n",
       "  'Senior Marketing Specialist',\n",
       "  'Senior IT Project Manager',\n",
       "  'Senior Quality Assurance Analyst',\n",
       "  'Director of Sales and Marketing',\n",
       "  'Senior Account Executive',\n",
       "  'Director of Business Development',\n",
       "  'Junior Social Media Manager',\n",
       "  'Senior Human Resources Specialist',\n",
       "  'Senior Data Analyst',\n",
       "  'Director of Human Capital',\n",
       "  'Junior Advertising Coordinator',\n",
       "  'Junior UX Designer',\n",
       "  'Senior Marketing Director',\n",
       "  'Senior IT Consultant',\n",
       "  'Senior Financial Advisor',\n",
       "  'Junior Business Operations Analyst',\n",
       "  'Junior Social Media Specialist',\n",
       "  'Senior Product Development Manager',\n",
       "  'Junior Operations Manager',\n",
       "  'Senior Software Architect',\n",
       "  'Junior Research Scientist',\n",
       "  'Senior Financial Manager',\n",
       "  'Senior HR Specialist',\n",
       "  'Senior Data Engineer',\n",
       "  'Junior Operations Coordinator',\n",
       "  'Director of HR',\n",
       "  'Senior Operations Coordinator',\n",
       "  'Junior Financial Advisor',\n",
       "  'Director of Engineering'],\n",
       " 'YearsofExperience': [5.0,\n",
       "  3.0,\n",
       "  15.0,\n",
       "  7.0,\n",
       "  20.0,\n",
       "  2.0,\n",
       "  12.0,\n",
       "  4.0,\n",
       "  1.0,\n",
       "  10.0,\n",
       "  18.0,\n",
       "  6.0,\n",
       "  14.0,\n",
       "  16.0,\n",
       "  0.0,\n",
       "  22.0,\n",
       "  19.0,\n",
       "  9.0,\n",
       "  13.0,\n",
       "  11.0,\n",
       "  25.0,\n",
       "  21.0,\n",
       "  8.0,\n",
       "  17.0,\n",
       "  23.0,\n",
       "  24.0,\n",
       "  0.5,\n",
       "  1.5,\n",
       "  nan],\n",
       " 'Salary': [90000.0,\n",
       "  65000.0,\n",
       "  150000.0,\n",
       "  60000.0,\n",
       "  200000.0,\n",
       "  55000.0,\n",
       "  120000.0,\n",
       "  80000.0,\n",
       "  45000.0,\n",
       "  110000.0,\n",
       "  75000.0,\n",
       "  140000.0,\n",
       "  130000.0,\n",
       "  40000.0,\n",
       "  125000.0,\n",
       "  115000.0,\n",
       "  35000.0,\n",
       "  180000.0,\n",
       "  190000.0,\n",
       "  50000.0,\n",
       "  250000.0,\n",
       "  170000.0,\n",
       "  160000.0,\n",
       "  85000.0,\n",
       "  95000.0,\n",
       "  105000.0,\n",
       "  70000.0,\n",
       "  100000.0,\n",
       "  30000.0,\n",
       "  135000.0,\n",
       "  220000.0,\n",
       "  175000.0,\n",
       "  185000.0,\n",
       "  nan,\n",
       "  145000.0,\n",
       "  155000.0,\n",
       "  350.0]}"
      ]
     },
     "execution_count": 11,
     "metadata": {},
     "output_type": "execute_result"
    }
   ],
   "source": [
    "{columns: list(df[columns].unique()) for columns in df.columns}"
   ]
  },
  {
   "cell_type": "code",
   "execution_count": 12,
   "id": "9222b251",
   "metadata": {},
   "outputs": [
    {
     "data": {
      "text/plain": [
       "Age                  2\n",
       "Gender               2\n",
       "Education Level      2\n",
       "Job Title            2\n",
       "YearsofExperience    2\n",
       "Salary               2\n",
       "dtype: int64"
      ]
     },
     "execution_count": 12,
     "metadata": {},
     "output_type": "execute_result"
    }
   ],
   "source": [
    "df.isnull().sum()"
   ]
  },
  {
   "cell_type": "code",
   "execution_count": 13,
   "id": "7353f151",
   "metadata": {},
   "outputs": [
    {
     "name": "stdout",
     "output_type": "stream",
     "text": [
      "<class 'pandas.core.frame.DataFrame'>\n",
      "RangeIndex: 375 entries, 0 to 374\n",
      "Data columns (total 6 columns):\n",
      " #   Column             Non-Null Count  Dtype  \n",
      "---  ------             --------------  -----  \n",
      " 0   Age                373 non-null    float64\n",
      " 1   Gender             373 non-null    object \n",
      " 2   Education Level    373 non-null    object \n",
      " 3   Job Title          373 non-null    object \n",
      " 4   YearsofExperience  373 non-null    float64\n",
      " 5   Salary             373 non-null    float64\n",
      "dtypes: float64(3), object(3)\n",
      "memory usage: 17.7+ KB\n"
     ]
    }
   ],
   "source": [
    "df.info()"
   ]
  },
  {
   "cell_type": "code",
   "execution_count": 14,
   "id": "cf052fb0",
   "metadata": {},
   "outputs": [],
   "source": [
    "mean_age = df['Age'].mean()\n",
    "year_exp = df['YearsofExperience'].mean()\n",
    "mean_salary = df['Salary'].mean()"
   ]
  },
  {
   "cell_type": "code",
   "execution_count": 15,
   "id": "efcd12a9",
   "metadata": {},
   "outputs": [],
   "source": [
    "df['Age'] = df['Age'].fillna(mean_age)\n",
    "df['YearsofExperience'] = df['YearsofExperience'].fillna(year_exp)\n",
    "df['Salary'] = df['Salary'].fillna(mean_salary)"
   ]
  },
  {
   "cell_type": "code",
   "execution_count": 16,
   "id": "68c3f473",
   "metadata": {},
   "outputs": [
    {
     "data": {
      "text/plain": [
       "Age                  0\n",
       "Gender               2\n",
       "Education Level      2\n",
       "Job Title            2\n",
       "YearsofExperience    0\n",
       "Salary               0\n",
       "dtype: int64"
      ]
     },
     "execution_count": 16,
     "metadata": {},
     "output_type": "execute_result"
    }
   ],
   "source": [
    "df.isnull().sum()"
   ]
  },
  {
   "cell_type": "code",
   "execution_count": 17,
   "id": "76f6d6ae",
   "metadata": {},
   "outputs": [],
   "source": [
    "df = df.dropna()"
   ]
  },
  {
   "cell_type": "code",
   "execution_count": 18,
   "id": "741ff1dd",
   "metadata": {},
   "outputs": [
    {
     "data": {
      "text/plain": [
       "Age                  0\n",
       "Gender               0\n",
       "Education Level      0\n",
       "Job Title            0\n",
       "YearsofExperience    0\n",
       "Salary               0\n",
       "dtype: int64"
      ]
     },
     "execution_count": 18,
     "metadata": {},
     "output_type": "execute_result"
    }
   ],
   "source": [
    "df.isnull().sum()"
   ]
  },
  {
   "cell_type": "code",
   "execution_count": 19,
   "id": "7507e52c",
   "metadata": {},
   "outputs": [
    {
     "name": "stderr",
     "output_type": "stream",
     "text": [
      "<ipython-input-19-d5551b052bbe>:1: SettingWithCopyWarning: \n",
      "A value is trying to be set on a copy of a slice from a DataFrame.\n",
      "Try using .loc[row_indexer,col_indexer] = value instead\n",
      "\n",
      "See the caveats in the documentation: https://pandas.pydata.org/pandas-docs/stable/user_guide/indexing.html#returning-a-view-versus-a-copy\n",
      "  df['Gender'] = df['Gender'].replace({'Male': 0, 'Female': 1})\n"
     ]
    }
   ],
   "source": [
    "df['Gender'] = df['Gender'].replace({'Male': 0, 'Female': 1})"
   ]
  },
  {
   "cell_type": "code",
   "execution_count": 20,
   "id": "0d7fc5d0",
   "metadata": {},
   "outputs": [
    {
     "data": {
      "text/html": [
       "<div>\n",
       "<style scoped>\n",
       "    .dataframe tbody tr th:only-of-type {\n",
       "        vertical-align: middle;\n",
       "    }\n",
       "\n",
       "    .dataframe tbody tr th {\n",
       "        vertical-align: top;\n",
       "    }\n",
       "\n",
       "    .dataframe thead th {\n",
       "        text-align: right;\n",
       "    }\n",
       "</style>\n",
       "<table border=\"1\" class=\"dataframe\">\n",
       "  <thead>\n",
       "    <tr style=\"text-align: right;\">\n",
       "      <th></th>\n",
       "      <th>Age</th>\n",
       "      <th>Gender</th>\n",
       "      <th>Education Level</th>\n",
       "      <th>Job Title</th>\n",
       "      <th>YearsofExperience</th>\n",
       "      <th>Salary</th>\n",
       "    </tr>\n",
       "  </thead>\n",
       "  <tbody>\n",
       "    <tr>\n",
       "      <th>0</th>\n",
       "      <td>32.0</td>\n",
       "      <td>0</td>\n",
       "      <td>Bachelor's</td>\n",
       "      <td>Software Engineer</td>\n",
       "      <td>5.0</td>\n",
       "      <td>90000.0</td>\n",
       "    </tr>\n",
       "    <tr>\n",
       "      <th>1</th>\n",
       "      <td>28.0</td>\n",
       "      <td>1</td>\n",
       "      <td>Master's</td>\n",
       "      <td>Data Analyst</td>\n",
       "      <td>3.0</td>\n",
       "      <td>65000.0</td>\n",
       "    </tr>\n",
       "    <tr>\n",
       "      <th>2</th>\n",
       "      <td>45.0</td>\n",
       "      <td>0</td>\n",
       "      <td>PhD</td>\n",
       "      <td>Senior Manager</td>\n",
       "      <td>15.0</td>\n",
       "      <td>150000.0</td>\n",
       "    </tr>\n",
       "    <tr>\n",
       "      <th>3</th>\n",
       "      <td>36.0</td>\n",
       "      <td>1</td>\n",
       "      <td>Bachelor's</td>\n",
       "      <td>Sales Associate</td>\n",
       "      <td>7.0</td>\n",
       "      <td>60000.0</td>\n",
       "    </tr>\n",
       "    <tr>\n",
       "      <th>4</th>\n",
       "      <td>52.0</td>\n",
       "      <td>0</td>\n",
       "      <td>Master's</td>\n",
       "      <td>Director</td>\n",
       "      <td>20.0</td>\n",
       "      <td>200000.0</td>\n",
       "    </tr>\n",
       "    <tr>\n",
       "      <th>...</th>\n",
       "      <td>...</td>\n",
       "      <td>...</td>\n",
       "      <td>...</td>\n",
       "      <td>...</td>\n",
       "      <td>...</td>\n",
       "      <td>...</td>\n",
       "    </tr>\n",
       "    <tr>\n",
       "      <th>370</th>\n",
       "      <td>35.0</td>\n",
       "      <td>1</td>\n",
       "      <td>Bachelor's</td>\n",
       "      <td>Senior Marketing Analyst</td>\n",
       "      <td>8.0</td>\n",
       "      <td>85000.0</td>\n",
       "    </tr>\n",
       "    <tr>\n",
       "      <th>371</th>\n",
       "      <td>43.0</td>\n",
       "      <td>0</td>\n",
       "      <td>Master's</td>\n",
       "      <td>Director of Operations</td>\n",
       "      <td>19.0</td>\n",
       "      <td>170000.0</td>\n",
       "    </tr>\n",
       "    <tr>\n",
       "      <th>372</th>\n",
       "      <td>29.0</td>\n",
       "      <td>1</td>\n",
       "      <td>Bachelor's</td>\n",
       "      <td>Junior Project Manager</td>\n",
       "      <td>2.0</td>\n",
       "      <td>40000.0</td>\n",
       "    </tr>\n",
       "    <tr>\n",
       "      <th>373</th>\n",
       "      <td>34.0</td>\n",
       "      <td>0</td>\n",
       "      <td>Bachelor's</td>\n",
       "      <td>Senior Operations Coordinator</td>\n",
       "      <td>7.0</td>\n",
       "      <td>90000.0</td>\n",
       "    </tr>\n",
       "    <tr>\n",
       "      <th>374</th>\n",
       "      <td>44.0</td>\n",
       "      <td>1</td>\n",
       "      <td>PhD</td>\n",
       "      <td>Senior Business Analyst</td>\n",
       "      <td>15.0</td>\n",
       "      <td>150000.0</td>\n",
       "    </tr>\n",
       "  </tbody>\n",
       "</table>\n",
       "<p>373 rows × 6 columns</p>\n",
       "</div>"
      ],
      "text/plain": [
       "      Age  Gender Education Level                      Job Title  \\\n",
       "0    32.0       0      Bachelor's              Software Engineer   \n",
       "1    28.0       1        Master's                   Data Analyst   \n",
       "2    45.0       0             PhD                 Senior Manager   \n",
       "3    36.0       1      Bachelor's                Sales Associate   \n",
       "4    52.0       0        Master's                       Director   \n",
       "..    ...     ...             ...                            ...   \n",
       "370  35.0       1      Bachelor's       Senior Marketing Analyst   \n",
       "371  43.0       0        Master's         Director of Operations   \n",
       "372  29.0       1      Bachelor's         Junior Project Manager   \n",
       "373  34.0       0      Bachelor's  Senior Operations Coordinator   \n",
       "374  44.0       1             PhD        Senior Business Analyst   \n",
       "\n",
       "     YearsofExperience    Salary  \n",
       "0                  5.0   90000.0  \n",
       "1                  3.0   65000.0  \n",
       "2                 15.0  150000.0  \n",
       "3                  7.0   60000.0  \n",
       "4                 20.0  200000.0  \n",
       "..                 ...       ...  \n",
       "370                8.0   85000.0  \n",
       "371               19.0  170000.0  \n",
       "372                2.0   40000.0  \n",
       "373                7.0   90000.0  \n",
       "374               15.0  150000.0  \n",
       "\n",
       "[373 rows x 6 columns]"
      ]
     },
     "execution_count": 20,
     "metadata": {},
     "output_type": "execute_result"
    }
   ],
   "source": [
    "df"
   ]
  },
  {
   "cell_type": "code",
   "execution_count": 21,
   "id": "c3bef530",
   "metadata": {},
   "outputs": [],
   "source": [
    "## df.drop(columns = ['Education Level', 'Job Title'], inplace = True)"
   ]
  },
  {
   "cell_type": "code",
   "execution_count": null,
   "id": "5bb56b78",
   "metadata": {},
   "outputs": [],
   "source": []
  },
  {
   "cell_type": "code",
   "execution_count": 22,
   "id": "1299a442",
   "metadata": {},
   "outputs": [
    {
     "name": "stdout",
     "output_type": "stream",
     "text": [
      "Spearman correlation coefficient: 0.9405233050878236\n",
      "Spearman correlation p-value: 4.939973053342636e-176\n"
     ]
    }
   ],
   "source": [
    "spearman_corr, spearman_p = spearmanr(df['YearsofExperience'], df['Salary'])\n",
    "print('Spearman correlation coefficient:', spearman_corr)\n",
    "print('Spearman correlation p-value:', spearman_p)"
   ]
  },
  {
   "cell_type": "code",
   "execution_count": 23,
   "id": "84be64e8",
   "metadata": {},
   "outputs": [
    {
     "data": {
      "text/plain": [
       "<matplotlib.collections.PathCollection at 0x19bb39863a0>"
      ]
     },
     "execution_count": 23,
     "metadata": {},
     "output_type": "execute_result"
    },
    {
     "data": {
      "image/png": "[encoded data removed]",
      "text/plain": [
       "<Figure size 432x288 with 1 Axes>"
      ]
     },
     "metadata": {
      "needs_background": "light"
     },
     "output_type": "display_data"
    }
   ],
   "source": [
    "#%matplotlip inline\n",
    "plt.xlabel('YearsofExperience (yrs)')\n",
    "plt.ylabel('Salary ($)')\n",
    "plt.scatter(df.YearsofExperience, df.Salary)\n"
   ]
  },
  {
   "cell_type": "code",
   "execution_count": 24,
   "id": "ac86ed7a",
   "metadata": {},
   "outputs": [
    {
     "data": {
      "text/plain": [
       "<AxesSubplot:xlabel='Gender', ylabel='Salary'>"
      ]
     },
     "execution_count": 24,
     "metadata": {},
     "output_type": "execute_result"
    },
    {
     "data": {
      "image/png": "[encoded data removed]",
      "text/plain": [
       "<Figure size 432x288 with 1 Axes>"
      ]
     },
     "metadata": {
      "needs_background": "light"
     },
     "output_type": "display_data"
    }
   ],
   "source": [
    "sns.barplot(x = 'Gender', y = 'Salary', data = df)"
   ]
  },
  {
   "cell_type": "code",
   "execution_count": 25,
   "id": "9daa52c3",
   "metadata": {
    "scrolled": true
   },
   "outputs": [
    {
     "data": {
      "text/plain": [
       "<AxesSubplot:xlabel='YearsofExperience', ylabel='Salary'>"
      ]
     },
     "execution_count": 25,
     "metadata": {},
     "output_type": "execute_result"
    },
    {
     "data": {
      "image/png": "[encoded data removed]",
      "text/plain": [
       "<Figure size 432x288 with 1 Axes>"
      ]
     },
     "metadata": {
      "needs_background": "light"
     },
     "output_type": "display_data"
    }
   ],
   "source": [
    "sns.lineplot(x = 'YearsofExperience', y = 'Salary', data = df)"
   ]
  },
  {
   "cell_type": "code",
   "execution_count": 26,
   "id": "4cbc9b14",
   "metadata": {},
   "outputs": [
    {
     "name": "stdout",
     "output_type": "stream",
     "text": [
      "Requirement already satisfied: xgboost in c:\\programdata\\anaconda3\\lib\\site-packages (1.7.5)Note: you may need to restart the kernel to use updated packages.\n",
      "Requirement already satisfied: numpy in c:\\programdata\\anaconda3\\lib\\site-packages (from xgboost) (1.20.1)\n",
      "Requirement already satisfied: scipy in c:\\programdata\\anaconda3\\lib\\site-packages (from xgboost) (1.6.2)\n",
      "\n"
     ]
    }
   ],
   "source": [
    "pip install xgboost"
   ]
  },
  {
   "cell_type": "code",
   "execution_count": 27,
   "id": "687aafd1",
   "metadata": {},
   "outputs": [],
   "source": [
    "#Divide the complete dataset into training and testing data\n",
    "\n",
    "from sklearn.model_selection import train_test_split\n",
    "from sklearn.preprocessing import StandardScaler\n",
    "from sklearn.ensemble import RandomForestRegressor\n",
    "from xgboost import XGBRegressor"
   ]
  },
  {
   "cell_type": "code",
   "execution_count": 28,
   "id": "08c9da05",
   "metadata": {},
   "outputs": [
    {
     "name": "stderr",
     "output_type": "stream",
     "text": [
      "C:\\ProgramData\\Anaconda3\\lib\\site-packages\\pandas\\core\\frame.py:4308: SettingWithCopyWarning: \n",
      "A value is trying to be set on a copy of a slice from a DataFrame\n",
      "\n",
      "See the caveats in the documentation: https://pandas.pydata.org/pandas-docs/stable/user_guide/indexing.html#returning-a-view-versus-a-copy\n",
      "  return super().drop(\n"
     ]
    }
   ],
   "source": [
    "df.drop(columns = ['Education Level', 'Job Title'], inplace = True)"
   ]
  },
  {
   "cell_type": "code",
   "execution_count": 33,
   "id": "899325fc",
   "metadata": {},
   "outputs": [],
   "source": [
    "X = df.drop(columns = ['Salary'])\n",
    "y = df['Salary']"
   ]
  },
  {
   "cell_type": "code",
   "execution_count": 30,
   "id": "5bc5dbcd",
   "metadata": {},
   "outputs": [],
   "source": [
    "test_data = df.tail(10)\n"
   ]
  },
  {
   "cell_type": "code",
   "execution_count": 31,
   "id": "34691914",
   "metadata": {},
   "outputs": [],
   "source": [
    "df = df.head(363)"
   ]
  },
  {
   "cell_type": "code",
   "execution_count": 35,
   "id": "727d4bac",
   "metadata": {},
   "outputs": [
    {
     "data": {
      "text/plain": [
       "(363, 3)"
      ]
     },
     "execution_count": 35,
     "metadata": {},
     "output_type": "execute_result"
    }
   ],
   "source": [
    "X.shape"
   ]
  },
  {
   "cell_type": "code",
   "execution_count": 37,
   "id": "78ae00a8",
   "metadata": {},
   "outputs": [
    {
     "data": {
      "text/plain": [
       "(363,)"
      ]
     },
     "execution_count": 37,
     "metadata": {},
     "output_type": "execute_result"
    }
   ],
   "source": [
    "y.shape"
   ]
  },
  {
   "cell_type": "code",
   "execution_count": 38,
   "id": "b75ea5d0",
   "metadata": {},
   "outputs": [],
   "source": [
    "sc = StandardScaler()\n",
    "X = sc.fit_transform(X)"
   ]
  },
  {
   "cell_type": "code",
   "execution_count": 39,
   "id": "45ed4abf",
   "metadata": {},
   "outputs": [],
   "source": [
    "X_train, X_test, y_train, y_test = train_test_split(X, y, test_size = 0.2, random_state = 0)"
   ]
  },
  {
   "cell_type": "code",
   "execution_count": 40,
   "id": "e6e723da",
   "metadata": {},
   "outputs": [],
   "source": [
    "rf = RandomForestRegressor()\n",
    "xg = XGBRegressor()"
   ]
  },
  {
   "cell_type": "code",
   "execution_count": 41,
   "id": "fee0d6c9",
   "metadata": {},
   "outputs": [
    {
     "data": {
      "text/plain": [
       "XGBRegressor(base_score=None, booster=None, callbacks=None,\n",
       "             colsample_bylevel=None, colsample_bynode=None,\n",
       "             colsample_bytree=None, early_stopping_rounds=None,\n",
       "             enable_categorical=False, eval_metric=None, feature_types=None,\n",
       "             gamma=None, gpu_id=None, grow_policy=None, importance_type=None,\n",
       "             interaction_constraints=None, learning_rate=None, max_bin=None,\n",
       "             max_cat_threshold=None, max_cat_to_onehot=None,\n",
       "             max_delta_step=None, max_depth=None, max_leaves=None,\n",
       "             min_child_weight=None, missing=nan, monotone_constraints=None,\n",
       "             n_estimators=100, n_jobs=None, num_parallel_tree=None,\n",
       "             predictor=None, random_state=None, ...)"
      ]
     },
     "execution_count": 41,
     "metadata": {},
     "output_type": "execute_result"
    }
   ],
   "source": [
    "rf.fit(X_train, y_train)\n",
    "xg.fit(X_train, y_train)"
   ]
  },
  {
   "cell_type": "code",
   "execution_count": 42,
   "id": "8d902cc5",
   "metadata": {},
   "outputs": [],
   "source": [
    "y_pred_rf = rf.predict(X_test)\n",
    "y_pred_xg = xg.predict(X_test)"
   ]
  },
  {
   "cell_type": "code",
   "execution_count": 43,
   "id": "1556965e",
   "metadata": {},
   "outputs": [],
   "source": [
    "train_accuracy_rf = rf.score(X_train, y_train)\n",
    "test_accuracy_rf = rf.score(X_test, y_test)"
   ]
  },
  {
   "cell_type": "code",
   "execution_count": 44,
   "id": "ea6aa49a",
   "metadata": {},
   "outputs": [
    {
     "name": "stdout",
     "output_type": "stream",
     "text": [
      "train_accuracy_rf: 0.9485236248320196\n",
      "test_accuracy_rf: 0.8902346952015985\n"
     ]
    }
   ],
   "source": [
    "print('train_accuracy_rf:', train_accuracy_rf)\n",
    "print('test_accuracy_rf:', test_accuracy_rf)"
   ]
  },
  {
   "cell_type": "code",
   "execution_count": 46,
   "id": "9e484f56",
   "metadata": {},
   "outputs": [],
   "source": [
    "train_accuracy_xg =xg.score(X_train, y_train)\n",
    "test_accuracy_xg = xg.score(X_test, y_test)"
   ]
  },
  {
   "cell_type": "code",
   "execution_count": 47,
   "id": "77de2577",
   "metadata": {},
   "outputs": [
    {
     "name": "stdout",
     "output_type": "stream",
     "text": [
      "train_accuracy_xg: 0.9585573583747897\n",
      "test_accuracy_xg: 0.8892396415184886\n"
     ]
    }
   ],
   "source": [
    "print('train_accuracy_xg:', train_accuracy_xg)\n",
    "print('test_accuracy_xg:', test_accuracy_xg)"
   ]
  },
  {
   "cell_type": "code",
   "execution_count": 48,
   "id": "4b619849",
   "metadata": {},
   "outputs": [],
   "source": [
    "from sklearn.metrics import mean_absolute_error, mean_squared_error, r2_score\n",
    "mae = mean_absolute_error(y_test, y_pred_rf)\n",
    "mse = mean_squared_error(y_test, y_pred_rf)\n",
    "r2 = r2_score(y_test, y_pred_rf)"
   ]
  },
  {
   "cell_type": "code",
   "execution_count": 50,
   "id": "731ab539",
   "metadata": {},
   "outputs": [
    {
     "name": "stdout",
     "output_type": "stream",
     "text": [
      "mae: 9088.019922315127\n",
      "mse: 215461527.97493705\n",
      "r2: 0.8902346952015985\n"
     ]
    }
   ],
   "source": [
    "print('mae:', mae)\n",
    "print('mse:', mse)\n",
    "print('r2:', r2)"
   ]
  },
  {
   "cell_type": "code",
   "execution_count": 51,
   "id": "3799a8da",
   "metadata": {},
   "outputs": [
    {
     "data": {
      "text/html": [
       "<div>\n",
       "<style scoped>\n",
       "    .dataframe tbody tr th:only-of-type {\n",
       "        vertical-align: middle;\n",
       "    }\n",
       "\n",
       "    .dataframe tbody tr th {\n",
       "        vertical-align: top;\n",
       "    }\n",
       "\n",
       "    .dataframe thead th {\n",
       "        text-align: right;\n",
       "    }\n",
       "</style>\n",
       "<table border=\"1\" class=\"dataframe\">\n",
       "  <thead>\n",
       "    <tr style=\"text-align: right;\">\n",
       "      <th></th>\n",
       "      <th>Age</th>\n",
       "      <th>Gender</th>\n",
       "      <th>YearsofExperience</th>\n",
       "      <th>Salary</th>\n",
       "    </tr>\n",
       "  </thead>\n",
       "  <tbody>\n",
       "    <tr>\n",
       "      <th>365</th>\n",
       "      <td>43.0</td>\n",
       "      <td>0</td>\n",
       "      <td>18.0</td>\n",
       "      <td>170000.0</td>\n",
       "    </tr>\n",
       "    <tr>\n",
       "      <th>366</th>\n",
       "      <td>31.0</td>\n",
       "      <td>1</td>\n",
       "      <td>3.0</td>\n",
       "      <td>50000.0</td>\n",
       "    </tr>\n",
       "    <tr>\n",
       "      <th>367</th>\n",
       "      <td>41.0</td>\n",
       "      <td>0</td>\n",
       "      <td>14.0</td>\n",
       "      <td>150000.0</td>\n",
       "    </tr>\n",
       "    <tr>\n",
       "      <th>368</th>\n",
       "      <td>44.0</td>\n",
       "      <td>1</td>\n",
       "      <td>16.0</td>\n",
       "      <td>160000.0</td>\n",
       "    </tr>\n",
       "    <tr>\n",
       "      <th>369</th>\n",
       "      <td>33.0</td>\n",
       "      <td>0</td>\n",
       "      <td>4.0</td>\n",
       "      <td>60000.0</td>\n",
       "    </tr>\n",
       "    <tr>\n",
       "      <th>370</th>\n",
       "      <td>35.0</td>\n",
       "      <td>1</td>\n",
       "      <td>8.0</td>\n",
       "      <td>85000.0</td>\n",
       "    </tr>\n",
       "    <tr>\n",
       "      <th>371</th>\n",
       "      <td>43.0</td>\n",
       "      <td>0</td>\n",
       "      <td>19.0</td>\n",
       "      <td>170000.0</td>\n",
       "    </tr>\n",
       "    <tr>\n",
       "      <th>372</th>\n",
       "      <td>29.0</td>\n",
       "      <td>1</td>\n",
       "      <td>2.0</td>\n",
       "      <td>40000.0</td>\n",
       "    </tr>\n",
       "    <tr>\n",
       "      <th>373</th>\n",
       "      <td>34.0</td>\n",
       "      <td>0</td>\n",
       "      <td>7.0</td>\n",
       "      <td>90000.0</td>\n",
       "    </tr>\n",
       "    <tr>\n",
       "      <th>374</th>\n",
       "      <td>44.0</td>\n",
       "      <td>1</td>\n",
       "      <td>15.0</td>\n",
       "      <td>150000.0</td>\n",
       "    </tr>\n",
       "  </tbody>\n",
       "</table>\n",
       "</div>"
      ],
      "text/plain": [
       "      Age  Gender  YearsofExperience    Salary\n",
       "365  43.0       0               18.0  170000.0\n",
       "366  31.0       1                3.0   50000.0\n",
       "367  41.0       0               14.0  150000.0\n",
       "368  44.0       1               16.0  160000.0\n",
       "369  33.0       0                4.0   60000.0\n",
       "370  35.0       1                8.0   85000.0\n",
       "371  43.0       0               19.0  170000.0\n",
       "372  29.0       1                2.0   40000.0\n",
       "373  34.0       0                7.0   90000.0\n",
       "374  44.0       1               15.0  150000.0"
      ]
     },
     "execution_count": 51,
     "metadata": {},
     "output_type": "execute_result"
    }
   ],
   "source": [
    "test_data"
   ]
  },
  {
   "cell_type": "code",
   "execution_count": 52,
   "id": "dd66214a",
   "metadata": {},
   "outputs": [
    {
     "name": "stderr",
     "output_type": "stream",
     "text": [
      "C:\\ProgramData\\Anaconda3\\lib\\site-packages\\pandas\\core\\frame.py:4308: SettingWithCopyWarning: \n",
      "A value is trying to be set on a copy of a slice from a DataFrame\n",
      "\n",
      "See the caveats in the documentation: https://pandas.pydata.org/pandas-docs/stable/user_guide/indexing.html#returning-a-view-versus-a-copy\n",
      "  return super().drop(\n"
     ]
    }
   ],
   "source": [
    "test_data.drop(columns = ['Salary'], inplace = True)"
   ]
  },
  {
   "cell_type": "code",
   "execution_count": 53,
   "id": "acb2e647",
   "metadata": {},
   "outputs": [
    {
     "data": {
      "text/plain": [
       "Index(['Age', 'Gender', 'YearsofExperience'], dtype='object')"
      ]
     },
     "execution_count": 53,
     "metadata": {},
     "output_type": "execute_result"
    }
   ],
   "source": [
    "test_data.columns"
   ]
  },
  {
   "cell_type": "code",
   "execution_count": 56,
   "id": "22d44980",
   "metadata": {},
   "outputs": [],
   "source": [
    "predictions = rf.predict(test_data)"
   ]
  },
  {
   "cell_type": "code",
   "execution_count": 57,
   "id": "f5b4582d",
   "metadata": {},
   "outputs": [
    {
     "data": {
      "text/plain": [
       "array([194250., 180650., 194250., 180650., 194250., 180650., 194250.,\n",
       "       192700., 194250., 180650.])"
      ]
     },
     "execution_count": 57,
     "metadata": {},
     "output_type": "execute_result"
    }
   ],
   "source": [
    "predictions"
   ]
  },
  {
   "cell_type": "code",
   "execution_count": null,
   "id": "bdb77b20",
   "metadata": {},
   "outputs": [],
   "source": []
  }
 ],
 "metadata": {
  "kernelspec": {
   "display_name": "Python 3",
   "language": "python",
   "name": "python3"
  },
  "language_info": {
   "codemirror_mode": {
    "name": "ipython",
    "version": 3
   },
   "file_extension": ".py",
   "mimetype": "text/x-python",
   "name": "python",
   "nbconvert_exporter": "python",
   "pygments_lexer": "ipython3",
   "version": "3.8.8"
  }
 },
 "nbformat": 4,
 "nbformat_minor": 5
}
